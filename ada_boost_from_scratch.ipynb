{
 "cells": [
  {
   "cell_type": "code",
   "execution_count": 2,
   "id": "79403722-843e-4bbf-bb12-31498e208f63",
   "metadata": {},
   "outputs": [],
   "source": [
    "import numpy as np\n",
    "import pandas as pd\n",
    "from mlxtend.plotting import plot_decision_regions\n",
    "import random\n",
    "from sklearn.tree import plot_tree\n",
    "import seaborn as sns\n",
    "from sklearn.tree import DecisionTreeClassifier"
   ]
  },
  {
   "cell_type": "code",
   "execution_count": 20,
   "id": "8aa374ea-0b3e-4126-bc26-8fde294e2a2e",
   "metadata": {},
   "outputs": [],
   "source": [
    "class AdaBoost(object):\n",
    "    def __init__(self):\n",
    "        pass\n",
    "        \n",
    "    def _train_classifier(self, X, y):\n",
    "        dt = DecisionTreeClassifier(max_depth=1)\n",
    "        dt.fit(X,y)\n",
    "        return dt.predict(X), dt\n",
    "        \n",
    "    def _calculate_model_weight(self,error):\n",
    "        return 0.5 * np.log((1-error)/error + 0.000001)\n",
    "\n",
    "    def _get_alpha(self,df_, pred):\n",
    "        df_['y_pred'] = pred\n",
    "        error =  df_.query(\"y != y_pred\")['weights'].sum()\n",
    "        alpha = self._calculate_model_weight(error)\n",
    "        return alpha, error\n",
    "\n",
    "    def _update_row_weights(self, row, alpha):\n",
    "\n",
    "        if row['y'] == row['y_pred']:\n",
    "            return row['weights'] * np.exp(-alpha)\n",
    "        else:\n",
    "            return row['weights'] * np.exp(alpha)\n",
    "    def _create_new_dataset_indices(self, df_):\n",
    "        rand_values = np.random.random(len(df_))\n",
    "        selected_indices = []\n",
    "        for index, row in df_.iterrows():\n",
    "            rand = np.random.random()\n",
    "            for i, row in df_.iterrows():\n",
    "                if row['cumsum_lower'] < rand and rand  <= row['cumsum_upper']:\n",
    "                    selected_indices.append(i)\n",
    "        return selected_indices\n",
    "    def _get_alpha_and_updated_df(self, df_, column_names, label_column):\n",
    "        \"\"\"\n",
    "        \"\"\"\n",
    "        X = df_[column_names].values \n",
    "        y = df_[label_column].values\n",
    "        pred, dt = self._train_classifier(X, y)\n",
    "        alpha, error = self._get_alpha(df_, pred)\n",
    "        df_['updated_weights'] = df_['weights'] * np.exp(alpha * (df_['y'] != df_['y_pred']).apply(lambda x: 1 if x else -1))\n",
    "\n",
    "        #df_['updated_weights'] = df_.apply(self._update_row_weights,alpha=alpha, axis=1)\n",
    "        df_['normalized_weights'] = df_['updated_weights']/df_['updated_weights'].sum()\n",
    "        df_['cumsum_upper'] = np.cumsum(df_['normalized_weights'])\n",
    "        df_['cumsum_lower'] = df_['cumsum_upper'] - df_['normalized_weights']\n",
    "        selected_indices = self._create_new_dataset_indices(df_)\n",
    "\n",
    "        selected_columns = column_names + [label_column] + ['weights']\n",
    "        updated_df = df_.loc[selected_indices, selected_columns]\n",
    "        return dt, alpha, updated_df, X, y, error\n",
    "    def train_ada_boost(self, num_stumps, df__, column_names, label_column):\n",
    "        dts = []\n",
    "        alphas = []\n",
    "        df__['weights'] =  1/df__.shape[0]\n",
    "        for i in range(num_stumps):\n",
    "\n",
    "            dt, alpha, df__, _, _ , error= self._get_alpha_and_updated_df(df__, column_names, label_column)\n",
    "            print(f\"Stump {i + 1}: Alpha = {alpha:.4f}, Error = {error:.4f}\")\n",
    "            dts.append(dt)\n",
    "            alphas.append(alpha)\n",
    "        return dts, alphas\n",
    "\n",
    "    def get_prediction(self, alphas, query, dts):\n",
    "        res = 0\n",
    "        for i, alpha in enumerate(alphas):\n",
    "            dt = dts[i]\n",
    "            y_pred = dt.predict(query)\n",
    "            res += alpha*y_pred\n",
    "        return np.sign(res)\n",
    "        \n",
    "            \n"
   ]
  },
  {
   "cell_type": "markdown",
   "id": "609c0e5b-1622-429f-bed0-797fddc012bd",
   "metadata": {},
   "source": [
    "# Create a random dataset"
   ]
  },
  {
   "cell_type": "code",
   "execution_count": 25,
   "id": "650fce39-6fe9-40ac-b313-edd5fc008396",
   "metadata": {},
   "outputs": [],
   "source": [
    "df = pd.DataFrame({'x1':range(0, 10),'x2':[random.randint(1, 10) for _ in range(10)], 'y':[random.randint(0, 1)  for _ in range(10)]})"
   ]
  },
  {
   "cell_type": "code",
   "execution_count": 26,
   "id": "39ed12c9-4afd-48da-ae70-f17469be66de",
   "metadata": {},
   "outputs": [
    {
     "data": {
      "text/html": [
       "<div>\n",
       "<style scoped>\n",
       "    .dataframe tbody tr th:only-of-type {\n",
       "        vertical-align: middle;\n",
       "    }\n",
       "\n",
       "    .dataframe tbody tr th {\n",
       "        vertical-align: top;\n",
       "    }\n",
       "\n",
       "    .dataframe thead th {\n",
       "        text-align: right;\n",
       "    }\n",
       "</style>\n",
       "<table border=\"1\" class=\"dataframe\">\n",
       "  <thead>\n",
       "    <tr style=\"text-align: right;\">\n",
       "      <th></th>\n",
       "      <th>x1</th>\n",
       "      <th>x2</th>\n",
       "      <th>y</th>\n",
       "    </tr>\n",
       "  </thead>\n",
       "  <tbody>\n",
       "    <tr>\n",
       "      <th>0</th>\n",
       "      <td>0</td>\n",
       "      <td>2</td>\n",
       "      <td>0</td>\n",
       "    </tr>\n",
       "    <tr>\n",
       "      <th>1</th>\n",
       "      <td>1</td>\n",
       "      <td>5</td>\n",
       "      <td>0</td>\n",
       "    </tr>\n",
       "    <tr>\n",
       "      <th>2</th>\n",
       "      <td>2</td>\n",
       "      <td>2</td>\n",
       "      <td>0</td>\n",
       "    </tr>\n",
       "    <tr>\n",
       "      <th>3</th>\n",
       "      <td>3</td>\n",
       "      <td>1</td>\n",
       "      <td>1</td>\n",
       "    </tr>\n",
       "    <tr>\n",
       "      <th>4</th>\n",
       "      <td>4</td>\n",
       "      <td>9</td>\n",
       "      <td>0</td>\n",
       "    </tr>\n",
       "  </tbody>\n",
       "</table>\n",
       "</div>"
      ],
      "text/plain": [
       "   x1  x2  y\n",
       "0   0   2  0\n",
       "1   1   5  0\n",
       "2   2   2  0\n",
       "3   3   1  1\n",
       "4   4   9  0"
      ]
     },
     "execution_count": 26,
     "metadata": {},
     "output_type": "execute_result"
    }
   ],
   "source": [
    "df.head()"
   ]
  },
  {
   "cell_type": "code",
   "execution_count": 27,
   "id": "af3759f7-ba53-49be-a6e2-4e725e833bed",
   "metadata": {},
   "outputs": [],
   "source": [
    "#sns.scatterplot(x=df['x1'], y = df['x2'], hue=df['y'])"
   ]
  },
  {
   "cell_type": "code",
   "execution_count": 28,
   "id": "c9051692-11e1-4815-aad5-89bc3465b6cb",
   "metadata": {},
   "outputs": [
    {
     "name": "stdout",
     "output_type": "stream",
     "text": [
      "Stump 1: Alpha = 0.6931, Error = 0.2000\n",
      "Stump 2: Alpha = 1.0986, Error = 0.1000\n",
      "Stump 3: Alpha = 0.4236, Error = 0.3000\n"
     ]
    }
   ],
   "source": [
    "num_stumps = 3\n",
    "column_names = ['x1', 'x2']\n",
    "label_column = 'y'\n",
    "ada_boost = AdaBoost()\n",
    "dts, alphas = ada_boost.train_ada_boost(num_stumps, df, column_names, label_column)"
   ]
  },
  {
   "cell_type": "code",
   "execution_count": 14,
   "id": "94716af1-291e-4eaf-83dc-4b38c0381586",
   "metadata": {},
   "outputs": [
    {
     "data": {
      "text/plain": [
       "array([1.])"
      ]
     },
     "execution_count": 14,
     "metadata": {},
     "output_type": "execute_result"
    }
   ],
   "source": [
    "query = np.array([0,7]).reshape(1,2)\n",
    "ada_boost.get_prediction(alphas, query, dts)"
   ]
  },
  {
   "cell_type": "markdown",
   "id": "f114c578-cf4d-421d-8039-8cab27c5a7b6",
   "metadata": {},
   "source": [
    "## We can anayse decision  trees 🌳 🌴  🌲  one by one"
   ]
  },
  {
   "cell_type": "code",
   "execution_count": 148,
   "id": "d81274b8-7e14-4a29-8f0b-5880b86d7388",
   "metadata": {},
   "outputs": [],
   "source": [
    "dt3, alpha3, df4,  X3, y3 = get_alpha_and_updated_df(df3)"
   ]
  },
  {
   "cell_type": "code",
   "execution_count": 149,
   "id": "050d73d5-292d-4d34-aebf-1f7f123c9860",
   "metadata": {},
   "outputs": [
    {
     "data": {
      "text/plain": [
       "[Text(0.5, 0.75, 'x[0] <= 0.5\\ngini = 0.42\\nsamples = 10\\nvalue = [3, 7]'),\n",
       " Text(0.25, 0.25, 'gini = 0.0\\nsamples = 7\\nvalue = [0, 7]'),\n",
       " Text(0.75, 0.25, 'gini = 0.0\\nsamples = 3\\nvalue = [3, 0]')]"
      ]
     },
     "execution_count": 149,
     "metadata": {},
     "output_type": "execute_result"
    },
    {
     "data": {
      "image/png": "[encoded data removed]",
      "text/plain": [
       "<Figure size 640x480 with 1 Axes>"
      ]
     },
     "metadata": {},
     "output_type": "display_data"
    }
   ],
   "source": [
    "plot_tree(dt3)"
   ]
  },
  {
   "cell_type": "code",
   "execution_count": 150,
   "id": "48bb6be9-41e4-4c97-829c-ec0f88e2c1cb",
   "metadata": {},
   "outputs": [
    {
     "data": {
      "text/plain": [
       "<Axes: >"
      ]
     },
     "execution_count": 150,
     "metadata": {},
     "output_type": "execute_result"
    },
    {
     "data": {
      "image/png": "[encoded data removed]",
      "text/plain": [
       "<Figure size 640x480 with 1 Axes>"
      ]
     },
     "metadata": {},
     "output_type": "display_data"
    }
   ],
   "source": [
    "plot_decision_regions(X3, y3, dt1, legend=2)"
   ]
  },
  {
   "cell_type": "code",
   "execution_count": null,
   "id": "89fac1ac-3f46-4999-a242-0f7ae092c5e0",
   "metadata": {},
   "outputs": [],
   "source": []
  }
 ],
 "metadata": {
  "kernelspec": {
   "display_name": "Python 3 (ipykernel)",
   "language": "python",
   "name": "python3"
  },
  "language_info": {
   "codemirror_mode": {
    "name": "ipython",
    "version": 3
   },
   "file_extension": ".py",
   "mimetype": "text/x-python",
   "name": "python",
   "nbconvert_exporter": "python",
   "pygments_lexer": "ipython3",
   "version": "3.9.6"
  }
 },
 "nbformat": 4,
 "nbformat_minor": 5
}
