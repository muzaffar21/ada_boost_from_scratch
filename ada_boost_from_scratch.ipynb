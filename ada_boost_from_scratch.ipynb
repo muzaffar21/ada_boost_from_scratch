{
 "cells": [
  {
   "cell_type": "code",
   "execution_count": 13,
   "id": "07024fd8-d16d-412f-b04d-86f32683c012",
   "metadata": {},
   "outputs": [],
   "source": [
    "#!pip install seaborn"
   ]
  },
  {
   "cell_type": "code",
   "execution_count": 9,
   "id": "79403722-843e-4bbf-bb12-31498e208f63",
   "metadata": {},
   "outputs": [],
   "source": [
    "import numpy as np\n",
    "import pandas as pd\n",
    "from mlxtend.plotting import plot_decision_regions\n",
    "import random\n",
    "from sklearn.tree import plot_tree\n",
    "import seaborn as sns\n",
    "from sklearn.tree import DecisionTreeClassifier\n",
    "import matplotlib.pyplot as plt\n"
   ]
  },
  {
   "cell_type": "code",
   "execution_count": 10,
   "id": "43a37c4c-7d93-4f9a-9546-d751f290d553",
   "metadata": {},
   "outputs": [
    {
     "data": {
      "text/plain": [
       "'0.23.3'"
      ]
     },
     "execution_count": 10,
     "metadata": {},
     "output_type": "execute_result"
    }
   ],
   "source": [
    "import mlxtend\n",
    "mlxtend.__version__"
   ]
  },
  {
   "cell_type": "code",
   "execution_count": 134,
   "id": "8aa374ea-0b3e-4126-bc26-8fde294e2a2e",
   "metadata": {},
   "outputs": [],
   "source": [
    "class AdaBoost(object):\n",
    "    def __init__(self):\n",
    "        pass\n",
    "        \n",
    "    def _train_classifier(self, X, y):\n",
    "        \"\"\"\n",
    "        We will train decision stump, 1 depth tree  on data \n",
    "        \"\"\"\n",
    "        dt = DecisionTreeClassifier(max_depth=1)\n",
    "        dt.fit(X,y)\n",
    "        return dt.predict(X), dt\n",
    "        \n",
    "    def _calculate_model_weight_alpha(self,error):\n",
    "        \"\"\"\n",
    "        # this is simple method which return alpha value from error\n",
    "        # value, if error is greater , alpha is smaller and vice versa.\n",
    "        # To understand this please refer to below plot at bottom of notebook\n",
    "        \"\"\"\n",
    "        return 0.5 * np.log((1-error)/(error + 0.000001))\n",
    "\n",
    "    def _get_alpha(self,df_, pred):\n",
    "        \"\"\"\n",
    "        This method will first get all the examples of data where preicted label is not equal to \n",
    "        actual variable and sum up their weights which is called model error\n",
    "        i.e sum of weights of mis classified examples\n",
    "        After that it will get alpha value of classifier, alpha value is just defined as :- when error is small alpha is greater and\n",
    "        vice versa from error value of 0 and 1\n",
    "        \"\"\"\n",
    "        df_['y_pred'] = pred\n",
    "        error =  df_.query(\"y != y_pred\")['weights'].sum()\n",
    "        alpha = self._calculate_model_weight_alpha(error)\n",
    "        return alpha, error\n",
    "\n",
    "    def _update_row_weights(self, row, alpha):\n",
    "\n",
    "        if row['y'] == row['y_pred']:\n",
    "            return row['weights'] * np.exp(-alpha)\n",
    "        else:\n",
    "            return row['weights'] * np.exp(alpha)\n",
    "            \n",
    "    def _create_new_dataset_indices(self, df_):\n",
    "        \"\"\"\n",
    "        1️⃣ Why is this method needed?\n",
    "\n",
    "\n",
    "        We need to resample examples so that misclassified/examples with high weights ones get higher priority.\n",
    "        2️⃣ What does it do?\n",
    "        \n",
    "        It picks examples proportionally to their updated weight using random sampling on the cumulative sum.\n",
    "        higher the weith , more changes to get selected\n",
    "        \"\"\"\n",
    "        df_ = df_.reset_index(drop=True)\n",
    "        rand_values = np.random.random(len(df_))  # Generate all random values at once\n",
    "        # check if elements from left array are within the sorted array on right\n",
    "        selected_indices = np.searchsorted(df_['cumsum_upper'].values, rand_values)  \n",
    "        return selected_indices.tolist()  # Convert numpy array to list\n",
    "        \n",
    "    def _get_alpha_and_updated_df(self, df_, column_names, label_column):\n",
    "        \"\"\"\n",
    "        \"\"\"\n",
    "        # Define X and Y as training data\n",
    "        X = df_[column_names].values \n",
    "        y = df_[label_column].values\n",
    "\n",
    "        # train and simple 1 depth decision tree on data and \n",
    "        # and get predicted values from that DT.\n",
    "        pred, dt = self._train_classifier(X, y)\n",
    "        # Using predictions caluclated error which is above defined, like error is sum of weights of miscalssified examples\n",
    "        # and alpha is just reverse of error in some sence for more error we will get less alpha and vice-versa , please refer\n",
    "        # to above methods and below plot to understand this\n",
    "        alpha, error = self._get_alpha(df_, pred)\n",
    "        \n",
    "        # Below line will update weights by simple logic, for misclassified examples weight = weight* e^alpha and for examples\n",
    "        # with correct predictions weight = weight* e^-alpha.\n",
    "        # Please refer to below graph in bottom of notbook to uderstand this\n",
    "\n",
    "       \n",
    "        df_['updated_weights'] = df_['weights'] * np.exp(alpha * (df_['y'] != df_['y_pred']).apply(lambda x: 1 if x else -1))\n",
    "\n",
    "         # so, what are we doing till now is giving more weight to misclassifeid examples and less weight to correct classifier examples\n",
    "        # lets exaplain the same:-\n",
    "        \"\"\"\n",
    "        1. Get model overall error as sum of weights  of mis classified examples.\n",
    "        2. Get alpha for model, alpha is more of model error is less and vice-versa.\n",
    "        3. Update weight per example, now by using logic on above code line we are giving more weights miss-classified examples and\n",
    "        less weights to correct classified\n",
    "        \n",
    "        \"\"\"\n",
    "\n",
    "        #df_['updated_weights'] = df_.apply(self._update_row_weights,alpha=alpha, axis=1)\n",
    "        # normalize updated weights to get normalized weights for each example\n",
    "        df_['normalized_weights'] = df_['updated_weights']/df_['updated_weights'].sum()\n",
    "        df_['cumsum_upper'] = np.cumsum(df_['normalized_weights']) # add cummulative sum to each row, sum upto that row for normalized weights\n",
    "        #display(df_.head())\n",
    "\n",
    "        # select indices for updated dataset\n",
    "        selected_indices = self._create_new_dataset_indices(df_)\n",
    "        selected_indices = [i for i in selected_indices if i in df_.index]  # Keep only valid indices\n",
    "        #print(f\"======>  selected indices {selected_indices}\")\n",
    "\n",
    "        selected_columns = column_names + [label_column] + ['weights']\n",
    "        #print(selected_columns)\n",
    "        #print(df_.columns)\n",
    "         # create new df with rows only from above updated indices and columns from\n",
    "        # selected columns\n",
    "        updated_df = df_.loc[selected_indices, selected_columns]\n",
    "        return dt, alpha, updated_df, X, y, error\n",
    "    def train_ada_boost(self, num_stumps, df__, column_names, label_column):\n",
    "        dts = []\n",
    "        alphas = []\n",
    "\n",
    "        # add constant weight to each example in data i.e. --> weight == 1/n\n",
    "        df__['weights'] =  1/df__.shape[0]\n",
    "        for i in range(num_stumps):\n",
    "\n",
    "            dt, alpha, df__, _, _ , error= self._get_alpha_and_updated_df(df__, column_names, label_column)\n",
    "            print(f\"Stump {i + 1}: Alpha = {alpha:.4f}, Error = {error:.4f}\")\n",
    "            dts.append(dt)\n",
    "            alphas.append(alpha)\n",
    "        return dts, alphas\n",
    "\n",
    "    def get_prediction(self, alphas, query, dts):\n",
    "        res = 0\n",
    "        for i, alpha in enumerate(alphas):\n",
    "            dt = dts[i]\n",
    "            y_pred = dt.predict(query)\n",
    "            res += alpha*y_pred\n",
    "        return np.sign(res)\n",
    "        \n",
    "            \n"
   ]
  },
  {
   "cell_type": "markdown",
   "id": "609c0e5b-1622-429f-bed0-797fddc012bd",
   "metadata": {},
   "source": [
    "# Create a random dataset"
   ]
  },
  {
   "cell_type": "code",
   "execution_count": 142,
   "id": "650fce39-6fe9-40ac-b313-edd5fc008396",
   "metadata": {},
   "outputs": [],
   "source": [
    "df = pd.DataFrame({'x1':range(0, 10),'x2':[random.randint(1, 10) for _ in range(10)], 'y':[random.randint(0, 1)  for _ in range(10)]})"
   ]
  },
  {
   "cell_type": "code",
   "execution_count": 143,
   "id": "39ed12c9-4afd-48da-ae70-f17469be66de",
   "metadata": {},
   "outputs": [
    {
     "data": {
      "text/html": [
       "<div>\n",
       "<style scoped>\n",
       "    .dataframe tbody tr th:only-of-type {\n",
       "        vertical-align: middle;\n",
       "    }\n",
       "\n",
       "    .dataframe tbody tr th {\n",
       "        vertical-align: top;\n",
       "    }\n",
       "\n",
       "    .dataframe thead th {\n",
       "        text-align: right;\n",
       "    }\n",
       "</style>\n",
       "<table border=\"1\" class=\"dataframe\">\n",
       "  <thead>\n",
       "    <tr style=\"text-align: right;\">\n",
       "      <th></th>\n",
       "      <th>x1</th>\n",
       "      <th>x2</th>\n",
       "      <th>y</th>\n",
       "    </tr>\n",
       "  </thead>\n",
       "  <tbody>\n",
       "    <tr>\n",
       "      <th>0</th>\n",
       "      <td>0</td>\n",
       "      <td>9</td>\n",
       "      <td>1</td>\n",
       "    </tr>\n",
       "    <tr>\n",
       "      <th>1</th>\n",
       "      <td>1</td>\n",
       "      <td>5</td>\n",
       "      <td>1</td>\n",
       "    </tr>\n",
       "    <tr>\n",
       "      <th>2</th>\n",
       "      <td>2</td>\n",
       "      <td>1</td>\n",
       "      <td>1</td>\n",
       "    </tr>\n",
       "    <tr>\n",
       "      <th>3</th>\n",
       "      <td>3</td>\n",
       "      <td>10</td>\n",
       "      <td>0</td>\n",
       "    </tr>\n",
       "    <tr>\n",
       "      <th>4</th>\n",
       "      <td>4</td>\n",
       "      <td>5</td>\n",
       "      <td>0</td>\n",
       "    </tr>\n",
       "  </tbody>\n",
       "</table>\n",
       "</div>"
      ],
      "text/plain": [
       "   x1  x2  y\n",
       "0   0   9  1\n",
       "1   1   5  1\n",
       "2   2   1  1\n",
       "3   3  10  0\n",
       "4   4   5  0"
      ]
     },
     "execution_count": 143,
     "metadata": {},
     "output_type": "execute_result"
    }
   ],
   "source": [
    "df.head()"
   ]
  },
  {
   "cell_type": "code",
   "execution_count": 144,
   "id": "af3759f7-ba53-49be-a6e2-4e725e833bed",
   "metadata": {},
   "outputs": [],
   "source": [
    "#sns.scatterplot(x=df['x1'], y = df['x2'], hue=df['y'])"
   ]
  },
  {
   "cell_type": "code",
   "execution_count": 146,
   "id": "c9051692-11e1-4815-aad5-89bc3465b6cb",
   "metadata": {},
   "outputs": [
    {
     "name": "stdout",
     "output_type": "stream",
     "text": [
      "Stump 1: Alpha = 0.4236, Error = 0.3000\n",
      "Stump 2: Alpha = 0.6931, Error = 0.2000\n",
      "Stump 3: Alpha = 6.9078, Error = 0.0000\n"
     ]
    }
   ],
   "source": [
    "num_stumps = 3\n",
    "column_names = ['x1', 'x2']\n",
    "label_column = 'y'\n",
    "ada_boost = AdaBoost()\n",
    "dts, alphas = ada_boost.train_ada_boost(num_stumps, df, column_names, label_column)"
   ]
  },
  {
   "cell_type": "code",
   "execution_count": 147,
   "id": "94716af1-291e-4eaf-83dc-4b38c0381586",
   "metadata": {},
   "outputs": [
    {
     "data": {
      "text/plain": [
       "array([1.])"
      ]
     },
     "execution_count": 147,
     "metadata": {},
     "output_type": "execute_result"
    }
   ],
   "source": [
    "query = np.array([0,7]).reshape(1,2)\n",
    "ada_boost.get_prediction(alphas, query, dts)"
   ]
  },
  {
   "cell_type": "markdown",
   "id": "f114c578-cf4d-421d-8039-8cab27c5a7b6",
   "metadata": {},
   "source": [
    "# We can anayse decision  trees 🌳 🌴  🌲  one by one"
   ]
  },
  {
   "cell_type": "code",
   "execution_count": 148,
   "id": "d81274b8-7e14-4a29-8f0b-5880b86d7388",
   "metadata": {},
   "outputs": [],
   "source": [
    "dt, alpha, updated_df, X, y, error =  ada_boost._get_alpha_and_updated_df(df, column_names, label_column)"
   ]
  },
  {
   "cell_type": "code",
   "execution_count": 149,
   "id": "050d73d5-292d-4d34-aebf-1f7f123c9860",
   "metadata": {},
   "outputs": [
    {
     "data": {
      "text/plain": [
       "[Text(0.5, 0.75, 'x[0] <= 2.5\\ngini = 0.48\\nsamples = 10\\nvalue = [4, 6]'),\n",
       " Text(0.25, 0.25, 'gini = 0.0\\nsamples = 3\\nvalue = [0, 3]'),\n",
       " Text(0.375, 0.5, 'True  '),\n",
       " Text(0.75, 0.25, 'gini = 0.49\\nsamples = 7\\nvalue = [4, 3]'),\n",
       " Text(0.625, 0.5, '  False')]"
      ]
     },
     "execution_count": 149,
     "metadata": {},
     "output_type": "execute_result"
    },
    {
     "data": {
      "image/png": "[encoded data removed]",
      "text/plain": [
       "<Figure size 640x480 with 1 Axes>"
      ]
     },
     "metadata": {},
     "output_type": "display_data"
    }
   ],
   "source": [
    "plot_tree(dt)"
   ]
  },
  {
   "cell_type": "code",
   "execution_count": 150,
   "id": "48bb6be9-41e4-4c97-829c-ec0f88e2c1cb",
   "metadata": {},
   "outputs": [
    {
     "data": {
      "text/plain": [
       "<Axes: >"
      ]
     },
     "execution_count": 150,
     "metadata": {},
     "output_type": "execute_result"
    },
    {
     "data": {
      "image/png": "[encoded data removed]",
      "text/plain": [
       "<Figure size 640x480 with 1 Axes>"
      ]
     },
     "metadata": {},
     "output_type": "display_data"
    }
   ],
   "source": [
    "plot_decision_regions(X, y, dt, legend=2)"
   ]
  },
  {
   "cell_type": "markdown",
   "id": "bae0d696-3a29-427d-a8ec-2f0ed29083ad",
   "metadata": {},
   "source": [
    "# Understanding how error and apha are playing "
   ]
  },
  {
   "cell_type": "code",
   "execution_count": 151,
   "id": "be983098-d257-40dd-9ebd-51bf97102436",
   "metadata": {},
   "outputs": [],
   "source": [
    "def calculate_model_weight_alpha(error):\n",
    "    #print((1-error)/(error + 0.000001))\n",
    "    return 0.5 * np.log((1-error)/(error + 0.000001))"
   ]
  },
  {
   "cell_type": "code",
   "execution_count": 152,
   "id": "89fac1ac-3f46-4999-a242-0f7ae092c5e0",
   "metadata": {},
   "outputs": [
    {
     "data": {
      "image/png": "[encoded data removed]",
      "text/plain": [
       "<Figure size 600x400 with 1 Axes>"
      ]
     },
     "metadata": {},
     "output_type": "display_data"
    }
   ],
   "source": [
    "errors = []\n",
    "alphas = []\n",
    "for i in range(0, 1000):\n",
    "    error = i/1000\n",
    "    errors.append(error)\n",
    "    alpha = calculate_model_weight_alpha(error)\n",
    "    alphas.append(alpha)\n",
    "    #print(f\"Error {error} , alpha {alpha}\")\n",
    "plt.figure(figsize=(6, 4))\n",
    "plt.scatter(errors, alphas, color='blue', label=\"Error vs alpha\")  # Scatter plot of data points\n",
    "#plt.plot(errors, alphas, color='red', label=\"Error vs alpha\")  # Regression line\n",
    "plt.xlabel(\"Error values\")\n",
    "plt.ylabel(\"Alpha values\")\n",
    "plt.title(\"Error vs alpha\")\n",
    "plt.legend()\n",
    "plt.grid()\n",
    "plt.show()"
   ]
  },
  {
   "cell_type": "markdown",
   "id": "40d72481-8e3b-4689-b756-9c3a7aedfdee",
   "metadata": {},
   "source": [
    "# Understanding how weights are being updated for correct and miscallsifed examples     "
   ]
  },
  {
   "cell_type": "code",
   "execution_count": 153,
   "id": "6466681c-919b-418f-b4da-614cae25a5ac",
   "metadata": {},
   "outputs": [
    {
     "data": {
      "image/png": "[encoded data removed]",
      "text/plain": [
       "<Figure size 600x400 with 1 Axes>"
      ]
     },
     "metadata": {},
     "output_type": "display_data"
    }
   ],
   "source": [
    "def get_updated_weight_pos(weight, alpha):\n",
    "    \"\"\"\n",
    "    weight updation method correct classified exmaples\n",
    "    \"\"\"\n",
    "    updated_weight = weight * np.exp(alpha * 1)\n",
    "    return updated_weight\n",
    "\n",
    "def get_updated_weight_neg(weight, alpha):\n",
    "    \"\"\"\n",
    "    weight updation method miss classified exmaples\n",
    "    \"\"\"\n",
    "    updated_weight = weight * np.exp(alpha * -1)\n",
    "    return updated_weight\n",
    "\n",
    "weight = 0.5\n",
    "alphas = np.linspace(0, 1, 1000)  # Generate alpha values from 0 to 1\n",
    "weights_pos = [get_updated_weight_pos(weight, alpha) for alpha in alphas]\n",
    "weights_neg = [get_updated_weight_neg(weight, alpha) for alpha in alphas]\n",
    "\n",
    "# Plot both in the same graph\n",
    "plt.figure(figsize=(6, 4))\n",
    "plt.plot(alphas, weights_pos, color='blue', label=\"Correctly Classified Weight\")\n",
    "plt.plot(alphas, weights_neg, color='red', label=\"Misclassified Weight\")\n",
    "plt.xlabel(\"Alpha values\")\n",
    "plt.ylabel(\"Updated Weights\")\n",
    "plt.title(\"Weight Updates vs. Alpha\")\n",
    "plt.legend()\n",
    "plt.grid()\n",
    "plt.show()"
   ]
  },
  {
   "cell_type": "code",
   "execution_count": 154,
   "id": "85c79ea2-15a6-45f3-811c-8e125773c16e",
   "metadata": {},
   "outputs": [
    {
     "data": {
      "text/plain": [
       "array([ 1,  3,  6, 10, 15, 35])"
      ]
     },
     "execution_count": 154,
     "metadata": {},
     "output_type": "execute_result"
    }
   ],
   "source": [
    "np.cumsum([1,2,3,4,5, 20])"
   ]
  },
  {
   "cell_type": "code",
   "execution_count": 155,
   "id": "5fff6928-b8bb-43f7-bd8e-4bb5dab42d6f",
   "metadata": {},
   "outputs": [
    {
     "data": {
      "text/plain": [
       "array([1, 1, 1])"
      ]
     },
     "execution_count": 155,
     "metadata": {},
     "output_type": "execute_result"
    }
   ],
   "source": [
    "np.searchsorted([0.1, 0.3, 0.9], [0.25, 0.11, 0.3]) # check if elements on left are within the sorted array on right"
   ]
  },
  {
   "cell_type": "markdown",
   "id": "4c90eec8-f629-4528-abf3-c9370463a036",
   "metadata": {},
   "source": [
    "# Understanding  how new indices are selected after each step based on updated weight"
   ]
  },
  {
   "cell_type": "code",
   "execution_count": 156,
   "id": "7de1bba5-a2bc-4bef-bf55-9d66035ef979",
   "metadata": {},
   "outputs": [],
   "source": [
    "def create_new_dataset_indices(df):\n",
    "    rand_values = np.random.random(len(df))  \n",
    "    selected_indices = np.searchsorted(df['cumsum'].values, rand_values)  \n",
    "    return selected_indices.tolist()  "
   ]
  },
  {
   "cell_type": "code",
   "execution_count": 157,
   "id": "40f37e61-5a5c-4f2f-8dd9-00cef717f27d",
   "metadata": {},
   "outputs": [],
   "source": [
    "df = pd.DataFrame()"
   ]
  },
  {
   "cell_type": "code",
   "execution_count": 158,
   "id": "cfeccea1-1175-4874-9dc0-2d53ac462acd",
   "metadata": {},
   "outputs": [],
   "source": [
    "df['Examples'] = range(10)\n",
    "df['Normalized_weights'] = [0.1, 0.5, 0.2, 0.6, 0.3, 0.3, 0.4, 0.5, 0.9, 0.8]\n",
    "df['Normalized_weights'] = df['Normalized_weights'] / df['Normalized_weights'].sum()"
   ]
  },
  {
   "cell_type": "code",
   "execution_count": 159,
   "id": "ac5a057b-bfdd-4cd7-a8a8-8d535ffa346a",
   "metadata": {},
   "outputs": [
    {
     "data": {
      "text/html": [
       "<div>\n",
       "<style scoped>\n",
       "    .dataframe tbody tr th:only-of-type {\n",
       "        vertical-align: middle;\n",
       "    }\n",
       "\n",
       "    .dataframe tbody tr th {\n",
       "        vertical-align: top;\n",
       "    }\n",
       "\n",
       "    .dataframe thead th {\n",
       "        text-align: right;\n",
       "    }\n",
       "</style>\n",
       "<table border=\"1\" class=\"dataframe\">\n",
       "  <thead>\n",
       "    <tr style=\"text-align: right;\">\n",
       "      <th></th>\n",
       "      <th>Examples</th>\n",
       "      <th>Normalized_weights</th>\n",
       "    </tr>\n",
       "  </thead>\n",
       "  <tbody>\n",
       "    <tr>\n",
       "      <th>0</th>\n",
       "      <td>0</td>\n",
       "      <td>0.021739</td>\n",
       "    </tr>\n",
       "    <tr>\n",
       "      <th>1</th>\n",
       "      <td>1</td>\n",
       "      <td>0.108696</td>\n",
       "    </tr>\n",
       "    <tr>\n",
       "      <th>2</th>\n",
       "      <td>2</td>\n",
       "      <td>0.043478</td>\n",
       "    </tr>\n",
       "    <tr>\n",
       "      <th>3</th>\n",
       "      <td>3</td>\n",
       "      <td>0.130435</td>\n",
       "    </tr>\n",
       "    <tr>\n",
       "      <th>4</th>\n",
       "      <td>4</td>\n",
       "      <td>0.065217</td>\n",
       "    </tr>\n",
       "  </tbody>\n",
       "</table>\n",
       "</div>"
      ],
      "text/plain": [
       "   Examples  Normalized_weights\n",
       "0         0            0.021739\n",
       "1         1            0.108696\n",
       "2         2            0.043478\n",
       "3         3            0.130435\n",
       "4         4            0.065217"
      ]
     },
     "execution_count": 159,
     "metadata": {},
     "output_type": "execute_result"
    }
   ],
   "source": [
    "df.head()"
   ]
  },
  {
   "cell_type": "code",
   "execution_count": 160,
   "id": "7ef70001-4d40-4258-a4b8-084938e7cb53",
   "metadata": {},
   "outputs": [],
   "source": [
    "df['cumsum'] = np.cumsum(df['Normalized_weights'])"
   ]
  },
  {
   "cell_type": "code",
   "execution_count": 161,
   "id": "f6860d64-d73b-44da-aad0-093418c8ebce",
   "metadata": {},
   "outputs": [],
   "source": [
    "df['cumsum_lower'] = df['cumsum']  - df['Normalized_weights']"
   ]
  },
  {
   "cell_type": "code",
   "execution_count": 162,
   "id": "48d7e19a-ed0b-430c-be78-811f2d6db21d",
   "metadata": {},
   "outputs": [
    {
     "data": {
      "text/html": [
       "<div>\n",
       "<style scoped>\n",
       "    .dataframe tbody tr th:only-of-type {\n",
       "        vertical-align: middle;\n",
       "    }\n",
       "\n",
       "    .dataframe tbody tr th {\n",
       "        vertical-align: top;\n",
       "    }\n",
       "\n",
       "    .dataframe thead th {\n",
       "        text-align: right;\n",
       "    }\n",
       "</style>\n",
       "<table border=\"1\" class=\"dataframe\">\n",
       "  <thead>\n",
       "    <tr style=\"text-align: right;\">\n",
       "      <th></th>\n",
       "      <th>Examples</th>\n",
       "      <th>Normalized_weights</th>\n",
       "      <th>cumsum</th>\n",
       "      <th>cumsum_lower</th>\n",
       "    </tr>\n",
       "  </thead>\n",
       "  <tbody>\n",
       "    <tr>\n",
       "      <th>0</th>\n",
       "      <td>0</td>\n",
       "      <td>0.021739</td>\n",
       "      <td>0.021739</td>\n",
       "      <td>0.000000</td>\n",
       "    </tr>\n",
       "    <tr>\n",
       "      <th>1</th>\n",
       "      <td>1</td>\n",
       "      <td>0.108696</td>\n",
       "      <td>0.130435</td>\n",
       "      <td>0.021739</td>\n",
       "    </tr>\n",
       "    <tr>\n",
       "      <th>2</th>\n",
       "      <td>2</td>\n",
       "      <td>0.043478</td>\n",
       "      <td>0.173913</td>\n",
       "      <td>0.130435</td>\n",
       "    </tr>\n",
       "    <tr>\n",
       "      <th>3</th>\n",
       "      <td>3</td>\n",
       "      <td>0.130435</td>\n",
       "      <td>0.304348</td>\n",
       "      <td>0.173913</td>\n",
       "    </tr>\n",
       "    <tr>\n",
       "      <th>4</th>\n",
       "      <td>4</td>\n",
       "      <td>0.065217</td>\n",
       "      <td>0.369565</td>\n",
       "      <td>0.304348</td>\n",
       "    </tr>\n",
       "    <tr>\n",
       "      <th>5</th>\n",
       "      <td>5</td>\n",
       "      <td>0.065217</td>\n",
       "      <td>0.434783</td>\n",
       "      <td>0.369565</td>\n",
       "    </tr>\n",
       "    <tr>\n",
       "      <th>6</th>\n",
       "      <td>6</td>\n",
       "      <td>0.086957</td>\n",
       "      <td>0.521739</td>\n",
       "      <td>0.434783</td>\n",
       "    </tr>\n",
       "    <tr>\n",
       "      <th>7</th>\n",
       "      <td>7</td>\n",
       "      <td>0.108696</td>\n",
       "      <td>0.630435</td>\n",
       "      <td>0.521739</td>\n",
       "    </tr>\n",
       "    <tr>\n",
       "      <th>8</th>\n",
       "      <td>8</td>\n",
       "      <td>0.195652</td>\n",
       "      <td>0.826087</td>\n",
       "      <td>0.630435</td>\n",
       "    </tr>\n",
       "    <tr>\n",
       "      <th>9</th>\n",
       "      <td>9</td>\n",
       "      <td>0.173913</td>\n",
       "      <td>1.000000</td>\n",
       "      <td>0.826087</td>\n",
       "    </tr>\n",
       "  </tbody>\n",
       "</table>\n",
       "</div>"
      ],
      "text/plain": [
       "   Examples  Normalized_weights    cumsum  cumsum_lower\n",
       "0         0            0.021739  0.021739      0.000000\n",
       "1         1            0.108696  0.130435      0.021739\n",
       "2         2            0.043478  0.173913      0.130435\n",
       "3         3            0.130435  0.304348      0.173913\n",
       "4         4            0.065217  0.369565      0.304348\n",
       "5         5            0.065217  0.434783      0.369565\n",
       "6         6            0.086957  0.521739      0.434783\n",
       "7         7            0.108696  0.630435      0.521739\n",
       "8         8            0.195652  0.826087      0.630435\n",
       "9         9            0.173913  1.000000      0.826087"
      ]
     },
     "execution_count": 162,
     "metadata": {},
     "output_type": "execute_result"
    }
   ],
   "source": [
    "df.head(10)"
   ]
  },
  {
   "cell_type": "code",
   "execution_count": 163,
   "id": "3054b5e3-9a05-435f-9181-7b17b1e4b1ce",
   "metadata": {},
   "outputs": [
    {
     "data": {
      "text/plain": [
       "[1, 9, 9, 3, 8, 9, 8, 3, 8, 8]"
      ]
     },
     "execution_count": 163,
     "metadata": {},
     "output_type": "execute_result"
    }
   ],
   "source": [
    "create_new_dataset_indices(df) # example 9 get selected more because it has more weight"
   ]
  },
  {
   "cell_type": "code",
   "execution_count": null,
   "id": "179cad4e-7911-4e54-85b2-631ae80ec230",
   "metadata": {},
   "outputs": [],
   "source": []
  },
  {
   "cell_type": "code",
   "execution_count": null,
   "id": "1d659084-9186-4d3c-8b62-1c574279839b",
   "metadata": {},
   "outputs": [],
   "source": []
  },
  {
   "cell_type": "code",
   "execution_count": null,
   "id": "94bc0120-cc96-450d-9c2d-3cc05a7cbb53",
   "metadata": {},
   "outputs": [],
   "source": []
  }
 ],
 "metadata": {
  "kernelspec": {
   "display_name": "Python 3 (ipykernel)",
   "language": "python",
   "name": "python3"
  },
  "language_info": {
   "codemirror_mode": {
    "name": "ipython",
    "version": 3
   },
   "file_extension": ".py",
   "mimetype": "text/x-python",
   "name": "python",
   "nbconvert_exporter": "python",
   "pygments_lexer": "ipython3",
   "version": "3.9.6"
  }
 },
 "nbformat": 4,
 "nbformat_minor": 5
}
